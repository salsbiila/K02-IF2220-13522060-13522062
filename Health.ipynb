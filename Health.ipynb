{
 "cells": [
  {
   "cell_type": "code",
   "execution_count": 226,
   "metadata": {},
   "outputs": [
    {
     "data": {
      "text/html": [
       "<div>\n",
       "<style scoped>\n",
       "    .dataframe tbody tr th:only-of-type {\n",
       "        vertical-align: middle;\n",
       "    }\n",
       "\n",
       "    .dataframe tbody tr th {\n",
       "        vertical-align: top;\n",
       "    }\n",
       "\n",
       "    .dataframe thead th {\n",
       "        text-align: right;\n",
       "    }\n",
       "</style>\n",
       "<table border=\"1\" class=\"dataframe\">\n",
       "  <thead>\n",
       "    <tr style=\"text-align: right;\">\n",
       "      <th></th>\n",
       "      <th>Age</th>\n",
       "      <th>Income</th>\n",
       "      <th>Gender</th>\n",
       "      <th>Education</th>\n",
       "      <th>Stress_Level</th>\n",
       "      <th>Exercise_Hours_Per_Week</th>\n",
       "      <th>Cholesterol_Level</th>\n",
       "      <th>Weight</th>\n",
       "      <th>Height</th>\n",
       "      <th>Blood_Pressure</th>\n",
       "      <th>Health_Status</th>\n",
       "    </tr>\n",
       "  </thead>\n",
       "  <tbody>\n",
       "    <tr>\n",
       "      <th>0</th>\n",
       "      <td>50</td>\n",
       "      <td>3.093457e+06</td>\n",
       "      <td>Male</td>\n",
       "      <td>Bachelor's Degree</td>\n",
       "      <td>4.967887</td>\n",
       "      <td>16.632494</td>\n",
       "      <td>200.419036</td>\n",
       "      <td>70.917032</td>\n",
       "      <td>150.401537</td>\n",
       "      <td>125.568820</td>\n",
       "      <td>Excellent</td>\n",
       "    </tr>\n",
       "    <tr>\n",
       "      <th>1</th>\n",
       "      <td>44</td>\n",
       "      <td>5.545445e+06</td>\n",
       "      <td>Male</td>\n",
       "      <td>Bachelor's Degree</td>\n",
       "      <td>5.833649</td>\n",
       "      <td>13.255988</td>\n",
       "      <td>201.010046</td>\n",
       "      <td>70.669576</td>\n",
       "      <td>149.285349</td>\n",
       "      <td>125.603505</td>\n",
       "      <td>Fair</td>\n",
       "    </tr>\n",
       "    <tr>\n",
       "      <th>2</th>\n",
       "      <td>25</td>\n",
       "      <td>4.401808e+06</td>\n",
       "      <td>Male</td>\n",
       "      <td>Master's Degree</td>\n",
       "      <td>5.587946</td>\n",
       "      <td>11.144370</td>\n",
       "      <td>200.105258</td>\n",
       "      <td>67.464506</td>\n",
       "      <td>150.020695</td>\n",
       "      <td>127.093163</td>\n",
       "      <td>Excellent</td>\n",
       "    </tr>\n",
       "    <tr>\n",
       "      <th>3</th>\n",
       "      <td>41</td>\n",
       "      <td>4.606865e+06</td>\n",
       "      <td>Female</td>\n",
       "      <td>High School</td>\n",
       "      <td>6.271119</td>\n",
       "      <td>9.140268</td>\n",
       "      <td>199.648701</td>\n",
       "      <td>67.566598</td>\n",
       "      <td>150.360963</td>\n",
       "      <td>117.388100</td>\n",
       "      <td>Poor</td>\n",
       "    </tr>\n",
       "    <tr>\n",
       "      <th>4</th>\n",
       "      <td>24</td>\n",
       "      <td>6.956049e+06</td>\n",
       "      <td>Male</td>\n",
       "      <td>Bachelor's Degree</td>\n",
       "      <td>5.895226</td>\n",
       "      <td>9.775610</td>\n",
       "      <td>199.330152</td>\n",
       "      <td>79.601530</td>\n",
       "      <td>149.730525</td>\n",
       "      <td>114.163706</td>\n",
       "      <td>Fair</td>\n",
       "    </tr>\n",
       "    <tr>\n",
       "      <th>...</th>\n",
       "      <td>...</td>\n",
       "      <td>...</td>\n",
       "      <td>...</td>\n",
       "      <td>...</td>\n",
       "      <td>...</td>\n",
       "      <td>...</td>\n",
       "      <td>...</td>\n",
       "      <td>...</td>\n",
       "      <td>...</td>\n",
       "      <td>...</td>\n",
       "      <td>...</td>\n",
       "    </tr>\n",
       "    <tr>\n",
       "      <th>1995</th>\n",
       "      <td>22</td>\n",
       "      <td>2.072546e+06</td>\n",
       "      <td>Male</td>\n",
       "      <td>Master's Degree</td>\n",
       "      <td>5.356903</td>\n",
       "      <td>14.428793</td>\n",
       "      <td>200.696341</td>\n",
       "      <td>49.569958</td>\n",
       "      <td>150.114380</td>\n",
       "      <td>113.658773</td>\n",
       "      <td>Fair</td>\n",
       "    </tr>\n",
       "    <tr>\n",
       "      <th>1996</th>\n",
       "      <td>25</td>\n",
       "      <td>7.456909e+06</td>\n",
       "      <td>Female</td>\n",
       "      <td>Master's Degree</td>\n",
       "      <td>5.499054</td>\n",
       "      <td>5.349180</td>\n",
       "      <td>198.991264</td>\n",
       "      <td>73.592521</td>\n",
       "      <td>149.828511</td>\n",
       "      <td>107.860829</td>\n",
       "      <td>Excellent</td>\n",
       "    </tr>\n",
       "    <tr>\n",
       "      <th>1997</th>\n",
       "      <td>44</td>\n",
       "      <td>5.560391e+06</td>\n",
       "      <td>Male</td>\n",
       "      <td>PhD</td>\n",
       "      <td>7.034253</td>\n",
       "      <td>3.746812</td>\n",
       "      <td>200.576659</td>\n",
       "      <td>44.493272</td>\n",
       "      <td>150.587193</td>\n",
       "      <td>138.210854</td>\n",
       "      <td>Poor</td>\n",
       "    </tr>\n",
       "    <tr>\n",
       "      <th>1998</th>\n",
       "      <td>20</td>\n",
       "      <td>3.436759e+06</td>\n",
       "      <td>Male</td>\n",
       "      <td>Bachelor's Degree</td>\n",
       "      <td>5.690408</td>\n",
       "      <td>5.720289</td>\n",
       "      <td>200.206448</td>\n",
       "      <td>85.255918</td>\n",
       "      <td>150.825614</td>\n",
       "      <td>127.516222</td>\n",
       "      <td>Good</td>\n",
       "    </tr>\n",
       "    <tr>\n",
       "      <th>1999</th>\n",
       "      <td>51</td>\n",
       "      <td>3.343102e+06</td>\n",
       "      <td>Male</td>\n",
       "      <td>Bachelor's Degree</td>\n",
       "      <td>5.572117</td>\n",
       "      <td>11.885388</td>\n",
       "      <td>199.824527</td>\n",
       "      <td>85.934284</td>\n",
       "      <td>151.279954</td>\n",
       "      <td>130.788995</td>\n",
       "      <td>Poor</td>\n",
       "    </tr>\n",
       "  </tbody>\n",
       "</table>\n",
       "<p>2000 rows × 11 columns</p>\n",
       "</div>"
      ],
      "text/plain": [
       "      Age        Income  Gender          Education  Stress_Level  \\\n",
       "0      50  3.093457e+06    Male  Bachelor's Degree      4.967887   \n",
       "1      44  5.545445e+06    Male  Bachelor's Degree      5.833649   \n",
       "2      25  4.401808e+06    Male    Master's Degree      5.587946   \n",
       "3      41  4.606865e+06  Female        High School      6.271119   \n",
       "4      24  6.956049e+06    Male  Bachelor's Degree      5.895226   \n",
       "...   ...           ...     ...                ...           ...   \n",
       "1995   22  2.072546e+06    Male    Master's Degree      5.356903   \n",
       "1996   25  7.456909e+06  Female    Master's Degree      5.499054   \n",
       "1997   44  5.560391e+06    Male                PhD      7.034253   \n",
       "1998   20  3.436759e+06    Male  Bachelor's Degree      5.690408   \n",
       "1999   51  3.343102e+06    Male  Bachelor's Degree      5.572117   \n",
       "\n",
       "      Exercise_Hours_Per_Week  Cholesterol_Level     Weight      Height  \\\n",
       "0                   16.632494         200.419036  70.917032  150.401537   \n",
       "1                   13.255988         201.010046  70.669576  149.285349   \n",
       "2                   11.144370         200.105258  67.464506  150.020695   \n",
       "3                    9.140268         199.648701  67.566598  150.360963   \n",
       "4                    9.775610         199.330152  79.601530  149.730525   \n",
       "...                       ...                ...        ...         ...   \n",
       "1995                14.428793         200.696341  49.569958  150.114380   \n",
       "1996                 5.349180         198.991264  73.592521  149.828511   \n",
       "1997                 3.746812         200.576659  44.493272  150.587193   \n",
       "1998                 5.720289         200.206448  85.255918  150.825614   \n",
       "1999                11.885388         199.824527  85.934284  151.279954   \n",
       "\n",
       "      Blood_Pressure Health_Status  \n",
       "0         125.568820     Excellent  \n",
       "1         125.603505          Fair  \n",
       "2         127.093163     Excellent  \n",
       "3         117.388100          Poor  \n",
       "4         114.163706          Fair  \n",
       "...              ...           ...  \n",
       "1995      113.658773          Fair  \n",
       "1996      107.860829     Excellent  \n",
       "1997      138.210854          Poor  \n",
       "1998      127.516222          Good  \n",
       "1999      130.788995          Poor  \n",
       "\n",
       "[2000 rows x 11 columns]"
      ]
     },
     "execution_count": 226,
     "metadata": {},
     "output_type": "execute_result"
    }
   ],
   "source": [
    "import pandas as pd\n",
    "import matplotlib as plt\n",
    "import numpy as np\n",
    "df = pd.read_csv('health.csv', index_col=0)\n",
    "df"
   ]
  },
  {
   "cell_type": "markdown",
   "metadata": {},
   "source": [
    "## 1. Descriptive statistics"
   ]
  },
  {
   "cell_type": "markdown",
   "metadata": {},
   "source": [
    "1. Data type of each column"
   ]
  },
  {
   "cell_type": "code",
   "execution_count": 227,
   "metadata": {},
   "outputs": [
    {
     "data": {
      "text/plain": [
       "Age                          int64\n",
       "Income                     float64\n",
       "Gender                      object\n",
       "Education                   object\n",
       "Stress_Level               float64\n",
       "Exercise_Hours_Per_Week    float64\n",
       "Cholesterol_Level          float64\n",
       "Weight                     float64\n",
       "Height                     float64\n",
       "Blood_Pressure             float64\n",
       "Health_Status               object\n",
       "dtype: object"
      ]
     },
     "execution_count": 227,
     "metadata": {},
     "output_type": "execute_result"
    }
   ],
   "source": [
    "df.dtypes"
   ]
  },
  {
   "cell_type": "markdown",
   "metadata": {},
   "source": [
    "2. Mean of each numerical data column"
   ]
  },
  {
   "cell_type": "code",
   "execution_count": 228,
   "metadata": {},
   "outputs": [
    {
     "name": "stdout",
     "output_type": "stream",
     "text": [
      "Mean of Age column: 39.4175\n",
      "Mean of Income column: 4889928.319474319\n",
      "Mean of Stress_Level column: 5.3569120065455555\n",
      "Mean of Exercise_Hours_Per_Week column: 9.951841679993532\n",
      "Mean of Cholesterol_Level column: 200.22319088556523\n",
      "Mean of Weight column: 70.23435871505947\n",
      "Mean of Height column: 150.73056490095638\n",
      "Mean of Blood_Pressure column: 119.68243694519857\n"
     ]
    }
   ],
   "source": [
    "print(f\"Mean of Age column: {df['Age'].mean()}\")\n",
    "print(f\"Mean of Income column: {df['Income'].mean()}\")\n",
    "print(f\"Mean of Stress_Level column: {df['Stress_Level'].mean()}\")\n",
    "print(f\"Mean of Exercise_Hours_Per_Week column: {df['Exercise_Hours_Per_Week'].mean()}\")\n",
    "print(f\"Mean of Cholesterol_Level column: {df['Cholesterol_Level'].mean()}\")\n",
    "print(f\"Mean of Weight column: {df['Weight'].mean()}\")\n",
    "print(f\"Mean of Height column: {df['Height'].mean()}\")\n",
    "print(f\"Mean of Blood_Pressure column: {df['Blood_Pressure'].mean()}\")"
   ]
  },
  {
   "cell_type": "markdown",
   "metadata": {},
   "source": [
    "3. Median of each numerical data column"
   ]
  },
  {
   "cell_type": "code",
   "execution_count": 229,
   "metadata": {},
   "outputs": [
    {
     "name": "stdout",
     "output_type": "stream",
     "text": [
      "Median of Age column: 39.0\n",
      "Median of Income column: 4898900.675226251\n",
      "Median of Stress_Level column: 5.351794512097912\n",
      "Median of Exercise_Hours_Per_Week column: 9.927028040259284\n",
      "Median of Cholesterol_Level column: 200.2215215611355\n",
      "Median of Weight column: 70.3921249240397\n",
      "Median of Height column: 150.6636188089309\n",
      "Median of Blood_Pressure column: 119.93739629658657\n"
     ]
    }
   ],
   "source": [
    "print(f\"Median of Age column: {df['Age'].median()}\")\n",
    "print(f\"Median of Income column: {df['Income'].median()}\")\n",
    "print(f\"Median of Stress_Level column: {df['Stress_Level'].median()}\")\n",
    "print(f\"Median of Exercise_Hours_Per_Week column: {df['Exercise_Hours_Per_Week'].median()}\")\n",
    "print(f\"Median of Cholesterol_Level column: {df['Cholesterol_Level'].median()}\")\n",
    "print(f\"Median of Weight column: {df['Weight'].median()}\")\n",
    "print(f\"Median of Height column: {df['Height'].median()}\")\n",
    "print(f\"Median of Blood_Pressure column: {df['Blood_Pressure'].median()}\")"
   ]
  },
  {
   "cell_type": "markdown",
   "metadata": {},
   "source": [
    "4. Mode of each numerical data column"
   ]
  },
  {
   "cell_type": "code",
   "execution_count": 230,
   "metadata": {},
   "outputs": [
    {
     "name": "stdout",
     "output_type": "stream",
     "text": [
      "Mode of Age column: 53\n",
      "Mode of Income column: -1088986.5264049638\n",
      "Mode of Stress_Level column: 2.5280566074548134\n",
      "Mode of Exercise_Hours_Per_Week column: -4.499310499524835\n",
      "Mode of Cholesterol_Level column: 196.91494770774705\n",
      "Mode of Weight column: 32.5817576131084\n",
      "Mode of Height column: 149.12459377317003\n",
      "Mode of Blood_Pressure column: 0.0\n"
     ]
    }
   ],
   "source": [
    "print(f\"Mode of Age column: {df['Age'].mode().iloc[0]}\")\n",
    "print(f\"Mode of Income column: {df['Income'].mode().iloc[0]}\")\n",
    "print(f\"Mode of Stress_Level column: {df['Stress_Level'].mode().iloc[0]}\")\n",
    "print(f\"Mode of Exercise_Hours_Per_Week column: {df['Exercise_Hours_Per_Week'].mode().iloc[0]}\")\n",
    "print(f\"Mode of Cholesterol_Level column: {df['Cholesterol_Level'].mode().iloc[0]}\")\n",
    "print(f\"Mode of Weight column: {df['Weight'].mode().iloc[0]}\")\n",
    "print(f\"Mode of Height column: {df['Height'].mode().iloc[0]}\")\n",
    "print(f\"Mode of Blood_Pressure column: {df['Blood_Pressure'].mode().iloc[0]}\")"
   ]
  },
  {
   "cell_type": "markdown",
   "metadata": {},
   "source": [
    "5. Standard Deviation of each numerical data column"
   ]
  },
  {
   "cell_type": "code",
   "execution_count": 231,
   "metadata": {},
   "outputs": [
    {
     "name": "stdout",
     "output_type": "stream",
     "text": [
      "Standard deviation of Age column: 11.560753403633772\n",
      "Standard deviation of Income column: 2010795.0245210964\n",
      "Standard deviation of Stress_Level column: 0.9170690832886778\n",
      "Standard deviation of Exercise_Hours_Per_Week column: 4.9095733928560295\n",
      "Standard deviation of Cholesterol_Level column: 0.9725937951705401\n",
      "Standard deviation of Weight column: 10.174342847464978\n",
      "Standard deviation of Height column: 0.6804431819678791\n",
      "Standard deviation of Blood_Pressure column: 11.20141248818825\n"
     ]
    }
   ],
   "source": [
    "print(f\"Standard deviation of Age column: {df['Age'].std()}\")\n",
    "print(f\"Standard deviation of Income column: {df['Income'].std()}\")\n",
    "print(f\"Standard deviation of Stress_Level column: {df['Stress_Level'].std()}\")\n",
    "print(f\"Standard deviation of Exercise_Hours_Per_Week column: {df['Exercise_Hours_Per_Week'].std()}\")\n",
    "print(f\"Standard deviation of Cholesterol_Level column: {df['Cholesterol_Level'].std()}\")\n",
    "print(f\"Standard deviation of Weight column: {df['Weight'].std()}\")\n",
    "print(f\"Standard deviation of Height column: {df['Height'].std()}\")\n",
    "print(f\"Standard deviation of Blood_Pressure column: {df['Blood_Pressure'].std()}\")"
   ]
  },
  {
   "cell_type": "markdown",
   "metadata": {},
   "source": [
    "6. Variance of each numerical data column"
   ]
  },
  {
   "cell_type": "code",
   "execution_count": 232,
   "metadata": {},
   "outputs": [
    {
     "name": "stdout",
     "output_type": "stream",
     "text": [
      "Variance of Age column: 133.65101925962983\n",
      "Variance of Income column: 4043296630638.797\n",
      "Variance of Stress_Level column: 0.8410157035239358\n",
      "Variance of Exercise_Hours_Per_Week column: 24.10391089983986\n",
      "Variance of Cholesterol_Level column: 0.9459386904042345\n",
      "Variance of Weight column: 103.51725237776176\n",
      "Variance of Height column: 0.46300292388657227\n",
      "Variance of Blood_Pressure column: 125.47164173053969\n"
     ]
    }
   ],
   "source": [
    "print(f\"Variance of Age column: {df['Age'].var()}\")\n",
    "print(f\"Variance of Income column: {df['Income'].var()}\")\n",
    "print(f\"Variance of Stress_Level column: {df['Stress_Level'].var()}\")\n",
    "print(f\"Variance of Exercise_Hours_Per_Week column: {df['Exercise_Hours_Per_Week'].var()}\")\n",
    "print(f\"Variance of Cholesterol_Level column: {df['Cholesterol_Level'].var()}\")\n",
    "print(f\"Variance of Weight column: {df['Weight'].var()}\")\n",
    "print(f\"Variance of Height column: {df['Height'].var()}\")\n",
    "print(f\"Variance of Blood_Pressure column: {df['Blood_Pressure'].var()}\")"
   ]
  },
  {
   "cell_type": "markdown",
   "metadata": {},
   "source": [
    "7. Range of each numerical data column"
   ]
  },
  {
   "cell_type": "code",
   "execution_count": 233,
   "metadata": {},
   "outputs": [
    {
     "name": "stdout",
     "output_type": "stream",
     "text": [
      "Range of Age column: 39\n",
      "Range of Income column: 13316478.756404964\n",
      "Range of Stress_Level column: 6.053270562448125\n",
      "Range of Exercise_Hours_Per_Week column: 31.315668966965315\n",
      "Range of Cholesterol_Level column: 6.247387290013478\n",
      "Range of Weight column: 77.02780441798873\n",
      "Range of Height column: 4.745875175648223\n",
      "Range of Blood_Pressure column: 200.95\n"
     ]
    }
   ],
   "source": [
    "def calculate_range(column):\n",
    "    return column.max() - column.min()\n",
    "\n",
    "print(f\"Range of Age column: {calculate_range(df['Age'])}\")\n",
    "print(f\"Range of Income column: {calculate_range(df['Income'])}\")\n",
    "print(f\"Range of Stress_Level column: {calculate_range(df['Stress_Level'])}\")\n",
    "print(f\"Range of Exercise_Hours_Per_Week column: {calculate_range(df['Exercise_Hours_Per_Week'])}\")\n",
    "print(f\"Range of Cholesterol_Level column: {calculate_range(df['Cholesterol_Level'])}\")\n",
    "print(f\"Range of Weight column: {calculate_range(df['Weight'])}\")\n",
    "print(f\"Range of Height column: {calculate_range(df['Height'])}\")\n",
    "print(f\"Range of Blood_Pressure column: {calculate_range(df['Blood_Pressure'])}\")"
   ]
  },
  {
   "cell_type": "markdown",
   "metadata": {},
   "source": [
    "8. Maximum entry value of each numerical data column"
   ]
  },
  {
   "cell_type": "code",
   "execution_count": 234,
   "metadata": {},
   "outputs": [
    {
     "name": "stdout",
     "output_type": "stream",
     "text": [
      "Maximum entry value of Age column: 59\n",
      "Maximum entry value of Income column: 12227492.23\n",
      "Maximum entry value of Stress_Level column: 8.581327169902938\n",
      "Maximum entry value of Exercise_Hours_Per_Week column: 26.81635846744048\n",
      "Maximum entry value of Cholesterol_Level column: 203.16233499776052\n",
      "Maximum entry value of Weight column: 109.60956203109714\n",
      "Maximum entry value of Height column: 153.87046894881826\n",
      "Maximum entry value of Blood_Pressure column: 200.95\n"
     ]
    }
   ],
   "source": [
    "print(f\"Maximum entry value of Age column: {df['Age'].max()}\")\n",
    "print(f\"Maximum entry value of Income column: {df['Income'].max()}\")\n",
    "print(f\"Maximum entry value of Stress_Level column: {df['Stress_Level'].max()}\")\n",
    "print(f\"Maximum entry value of Exercise_Hours_Per_Week column: {df['Exercise_Hours_Per_Week'].max()}\")\n",
    "print(f\"Maximum entry value of Cholesterol_Level column: {df['Cholesterol_Level'].max()}\")\n",
    "print(f\"Maximum entry value of Weight column: {df['Weight'].max()}\")\n",
    "print(f\"Maximum entry value of Height column: {df['Height'].max()}\")\n",
    "print(f\"Maximum entry value of Blood_Pressure column: {df['Blood_Pressure'].max()}\")"
   ]
  },
  {
   "cell_type": "markdown",
   "metadata": {},
   "source": [
    "9. Minimum entry value of each numerical data column"
   ]
  },
  {
   "cell_type": "code",
   "execution_count": 235,
   "metadata": {},
   "outputs": [
    {
     "name": "stdout",
     "output_type": "stream",
     "text": [
      "Minimum entry value of Age column: 20\n",
      "Minimum entry value of Income column: -1088986.5264049638\n",
      "Minimum entry value of Stress_Level column: 2.5280566074548134\n",
      "Minimum entry value of Exercise_Hours_Per_Week column: -4.499310499524835\n",
      "Minimum entry value of Cholesterol_Level column: 196.91494770774705\n",
      "Minimum entry value of Weight column: 32.5817576131084\n",
      "Minimum entry value of Height column: 149.12459377317003\n",
      "Minimum entry value of Blood_Pressure column: 0.0\n"
     ]
    }
   ],
   "source": [
    "print(f\"Minimum entry value of Age column: {df['Age'].min()}\")\n",
    "print(f\"Minimum entry value of Income column: {df['Income'].min()}\")\n",
    "print(f\"Minimum entry value of Stress_Level column: {df['Stress_Level'].min()}\")\n",
    "print(f\"Minimum entry value of Exercise_Hours_Per_Week column: {df['Exercise_Hours_Per_Week'].min()}\")\n",
    "print(f\"Minimum entry value of Cholesterol_Level column: {df['Cholesterol_Level'].min()}\")\n",
    "print(f\"Minimum entry value of Weight column: {df['Weight'].min()}\")\n",
    "print(f\"Minimum entry value of Height column: {df['Height'].min()}\")\n",
    "print(f\"Minimum entry value of Blood_Pressure column: {df['Blood_Pressure'].min()}\")"
   ]
  },
  {
   "cell_type": "markdown",
   "metadata": {},
   "source": [
    "10. Quartile of each numerical data column"
   ]
  },
  {
   "cell_type": "code",
   "execution_count": 236,
   "metadata": {},
   "outputs": [
    {
     "name": "stdout",
     "output_type": "stream",
     "text": [
      "Quartiles of Age column: Q1=30.0, Q2=39.0, Q3=49.25\n",
      "Quartiles of Income column: Q1=3580713.61116128, Q2=4898900.675226251, Q3=6271595.199348878\n",
      "Quartiles of Stress_Level column: Q1=4.737649604306655, Q2=5.351794512097912, Q3=6.003014057128098\n",
      "Quartiles of Exercise_Hours_Per_Week column: Q1=6.654950792037015, Q2=9.927028040259284, Q3=13.232217894811951\n",
      "Quartiles of Cholesterol_Level column: Q1=199.58197543206194, Q2=200.2215215611355, Q3=200.87364703352324\n",
      "Quartiles of Weight column: Q1=63.65489435193639, Q2=70.3921249240397, Q3=76.89451154965107\n",
      "Quartiles of Height column: Q1=150.24001940834705, Q2=150.6636188089309, Q3=151.1404889718494\n",
      "Quartiles of Blood_Pressure column: Q1=113.04860174210515, Q2=119.93739629658657, Q3=126.60878115051709\n"
     ]
    }
   ],
   "source": [
    "def calculate_quartiles(column):\n",
    "    q1 = column.quantile(0.25)\n",
    "    q2 = column.quantile(0.50)\n",
    "    q3 = column.quantile(0.75)\n",
    "    return q1, q2, q3\n",
    "\n",
    "age_quartiles = calculate_quartiles(df['Age'])\n",
    "income_quartiles = calculate_quartiles(df['Income'])\n",
    "stress_level_quartiles = calculate_quartiles(df['Stress_Level'])\n",
    "Exercise_Hours_Per_Week_quartiles = calculate_quartiles(df['Exercise_Hours_Per_Week'])\n",
    "cholesterol_level_quartiles = calculate_quartiles(df['Cholesterol_Level'])\n",
    "weight_quartiles = calculate_quartiles(df['Weight'])\n",
    "height_quartiles = calculate_quartiles(df['Height'])\n",
    "blood_pressure_quartiles = calculate_quartiles(df['Blood_Pressure'])\n",
    "\n",
    "print(f\"Quartiles of Age column: Q1={age_quartiles[0]}, Q2={age_quartiles[1]}, Q3={age_quartiles[2]}\")\n",
    "print(f\"Quartiles of Income column: Q1={income_quartiles[0]}, Q2={income_quartiles[1]}, Q3={income_quartiles[2]}\")\n",
    "print(f\"Quartiles of Stress_Level column: Q1={stress_level_quartiles[0]}, Q2={stress_level_quartiles[1]}, Q3={stress_level_quartiles[2]}\")\n",
    "print(f\"Quartiles of Exercise_Hours_Per_Week column: Q1={Exercise_Hours_Per_Week_quartiles[0]}, Q2={Exercise_Hours_Per_Week_quartiles[1]}, Q3={Exercise_Hours_Per_Week_quartiles[2]}\")\n",
    "print(f\"Quartiles of Cholesterol_Level column: Q1={cholesterol_level_quartiles[0]}, Q2={cholesterol_level_quartiles[1]}, Q3={cholesterol_level_quartiles[2]}\")\n",
    "print(f\"Quartiles of Weight column: Q1={weight_quartiles[0]}, Q2={weight_quartiles[1]}, Q3={weight_quartiles[2]}\")\n",
    "print(f\"Quartiles of Height column: Q1={height_quartiles[0]}, Q2={height_quartiles[1]}, Q3={height_quartiles[2]}\")\n",
    "print(f\"Quartiles of Blood_Pressure column: Q1={blood_pressure_quartiles[0]}, Q2={blood_pressure_quartiles[1]}, Q3={blood_pressure_quartiles[2]}\")"
   ]
  },
  {
   "cell_type": "markdown",
   "metadata": {},
   "source": [
    "11. IQR (Inter Quartile Range) of each numerical data column"
   ]
  },
  {
   "cell_type": "code",
   "execution_count": 237,
   "metadata": {},
   "outputs": [
    {
     "name": "stdout",
     "output_type": "stream",
     "text": [
      "IQR of Age column: 19.25\n",
      "IQR of Income column: 2690881.588187598\n",
      "IQR of Stress_Level column: 1.2653644528214434\n",
      "IQR of Exercise_Hours_Per_Week column: 6.577267102774936\n",
      "IQR of Cholesterol_Level column: 1.291671601461303\n",
      "IQR of Weight column: 13.23961719771468\n",
      "IQR of Height column: 0.9004695635023552\n",
      "IQR of Blood_Pressure column: 13.56017940841194\n"
     ]
    }
   ],
   "source": [
    "def calculate_iqr(column):\n",
    "    q1 = column.quantile(0.25)\n",
    "    q3 = column.quantile(0.75)\n",
    "    return q3 - q1\n",
    "\n",
    "print(f\"IQR of Age column: {calculate_iqr(df['Age'])}\")\n",
    "print(f\"IQR of Income column: {calculate_iqr(df['Income'])}\")\n",
    "print(f\"IQR of Stress_Level column: {calculate_iqr(df['Stress_Level'])}\")\n",
    "print(f\"IQR of Exercise_Hours_Per_Week column: {calculate_iqr(df['Exercise_Hours_Per_Week'])}\")\n",
    "print(f\"IQR of Cholesterol_Level column: {calculate_iqr(df['Cholesterol_Level'])}\")\n",
    "print(f\"IQR of Weight column: {calculate_iqr(df['Weight'])}\")\n",
    "print(f\"IQR of Height column: {calculate_iqr(df['Height'])}\")\n",
    "print(f\"IQR of Blood_Pressure column: {calculate_iqr(df['Blood_Pressure'])}\")"
   ]
  },
  {
   "cell_type": "markdown",
   "metadata": {},
   "source": [
    "12. Skewness of each numerical data column"
   ]
  },
  {
   "cell_type": "code",
   "execution_count": 238,
   "metadata": {},
   "outputs": [
    {
     "name": "stdout",
     "output_type": "stream",
     "text": [
      "Skewness of Age column: -0.005292021408066734\n",
      "Skewness of Income column: -0.006350937045968082\n",
      "Skewness of Stress_Level column: -0.012588479650887423\n",
      "Skewness of Exercise_Hours_Per_Week column: 0.06102587702559557\n",
      "Skewness of Cholesterol_Level column: -0.07212527215611748\n",
      "Skewness of Weight column: -0.05760539541999351\n",
      "Skewness of Height column: 0.6570758689702357\n",
      "Skewness of Blood_Pressure column: -1.6267368699384914\n"
     ]
    }
   ],
   "source": [
    "print(f\"Skewness of Age column: {df['Age'].skew()}\")\n",
    "print(f\"Skewness of Income column: {df['Income'].skew()}\")\n",
    "print(f\"Skewness of Stress_Level column: {df['Stress_Level'].skew()}\")\n",
    "print(f\"Skewness of Exercise_Hours_Per_Week column: {df['Exercise_Hours_Per_Week'].skew()}\")\n",
    "print(f\"Skewness of Cholesterol_Level column: {df['Cholesterol_Level'].skew()}\")\n",
    "print(f\"Skewness of Weight column: {df['Weight'].skew()}\")\n",
    "print(f\"Skewness of Height column: {df['Height'].skew()}\")\n",
    "print(f\"Skewness of Blood_Pressure column: {df['Blood_Pressure'].skew()}\")"
   ]
  },
  {
   "cell_type": "markdown",
   "metadata": {},
   "source": [
    "13. Kurtosis of each numerical data column"
   ]
  },
  {
   "cell_type": "code",
   "execution_count": 239,
   "metadata": {},
   "outputs": [
    {
     "name": "stdout",
     "output_type": "stream",
     "text": [
      "Kurtosis of Age column: -1.2033917756655756\n",
      "Kurtosis of Income column: -0.03156192513024303\n",
      "Kurtosis of Stress_Level column: -0.12981747826301726\n",
      "Kurtosis of Exercise_Hours_Per_Week column: 0.018318459396335474\n",
      "Kurtosis of Cholesterol_Level column: 0.0057584411153630555\n",
      "Kurtosis of Weight column: 0.12473186229548583\n",
      "Kurtosis of Height column: 0.7081113517447069\n",
      "Kurtosis of Blood_Pressure column: 18.838493575670412\n"
     ]
    }
   ],
   "source": [
    "print(f\"Kurtosis of Age column: {df['Age'].kurt()}\")\n",
    "print(f\"Kurtosis of Income column: {df['Income'].kurt()}\")\n",
    "print(f\"Kurtosis of Stress_Level column: {df['Stress_Level'].kurt()}\")\n",
    "print(f\"Kurtosis of Exercise_Hours_Per_Week column: {df['Exercise_Hours_Per_Week'].kurt()}\")\n",
    "print(f\"Kurtosis of Cholesterol_Level column: {df['Cholesterol_Level'].kurt()}\")\n",
    "print(f\"Kurtosis of Weight column: {df['Weight'].kurt()}\")\n",
    "print(f\"Kurtosis of Height column: {df['Height'].kurt()}\")\n",
    "print(f\"Kurtosis of Blood_Pressure column: {df['Blood_Pressure'].kurt()}\")"
   ]
  },
  {
   "cell_type": "markdown",
   "metadata": {},
   "source": [
    "14. Unique values and its proportion of each categorical data "
   ]
  },
  {
   "cell_type": "code",
   "execution_count": 240,
   "metadata": {},
   "outputs": [
    {
     "name": "stdout",
     "output_type": "stream",
     "text": [
      "Unique Gender entry:\n",
      "Female: 1011 (50.55%)\n",
      "Male: 989 (49.45%)\n",
      "\n",
      "Unique Education entry:\n",
      "Bachelor's Degree: 940 (47.00%)\n",
      "Master's Degree: 482 (24.10%)\n",
      "High School: 271 (13.55%)\n",
      "PhD: 247 (12.35%)\n",
      "Other: 57 (2.85%)\n",
      "undefined: 3 (0.15%)\n",
      "\n",
      "Unique Health_Status entry:\n",
      "Fair: 519 (25.95%)\n",
      "Poor: 504 (25.20%)\n",
      "Excellent: 503 (25.15%)\n",
      "Good: 474 (23.70%)\n",
      "\n"
     ]
    }
   ],
   "source": [
    "def print_unique_values(column_name):\n",
    "    unique_entries = df[column_name].value_counts()\n",
    "    total_count = len(df[column_name])\n",
    "    print(f\"Unique {column_name} entry:\")\n",
    "    for entry, count in unique_entries.items():\n",
    "        proportion = count / total_count\n",
    "        print(f\"{entry}: {count} ({proportion:.2%})\")\n",
    "    print()\n",
    "\n",
    "print_unique_values('Gender')\n",
    "print_unique_values('Education')\n",
    "print_unique_values('Health_Status')"
   ]
  }
 ],
 "metadata": {
  "kernelspec": {
   "display_name": "Python 3",
   "language": "python",
   "name": "python3"
  },
  "language_info": {
   "codemirror_mode": {
    "name": "ipython",
    "version": 3
   },
   "file_extension": ".py",
   "mimetype": "text/x-python",
   "name": "python",
   "nbconvert_exporter": "python",
   "pygments_lexer": "ipython3",
   "version": "3.10.5"
  }
 },
 "nbformat": 4,
 "nbformat_minor": 2
}
